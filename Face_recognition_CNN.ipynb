{
 "cells": [
  {
   "cell_type": "code",
   "execution_count": 80,
   "id": "4c122853-eff1-4a1a-a295-d1fd47e478c3",
   "metadata": {},
   "outputs": [],
   "source": [
    "import pandas as pd\n",
    "import numpy as np\n",
    "import matplotlib.pyplot as plt\n",
    "import cv2\n",
    "from sklearn.preprocessing import LabelEncoder\n",
    "from sklearn.model_selection import train_test_split"
   ]
  },
  {
   "cell_type": "code",
   "execution_count": 81,
   "id": "d4402731-27f2-4d06-a3ca-cede5ee0d3b4",
   "metadata": {},
   "outputs": [],
   "source": [
    "df = pd.read_csv(\"./faces_and_labels.csv\")"
   ]
  },
  {
   "cell_type": "code",
   "execution_count": 94,
   "id": "8a14145d-d301-43c2-b6dd-5e8d3c998a4d",
   "metadata": {},
   "outputs": [
    {
     "data": {
      "text/html": [
       "<div>\n",
       "<style scoped>\n",
       "    .dataframe tbody tr th:only-of-type {\n",
       "        vertical-align: middle;\n",
       "    }\n",
       "\n",
       "    .dataframe tbody tr th {\n",
       "        vertical-align: top;\n",
       "    }\n",
       "\n",
       "    .dataframe thead th {\n",
       "        text-align: right;\n",
       "    }\n",
       "</style>\n",
       "<table border=\"1\" class=\"dataframe\">\n",
       "  <thead>\n",
       "    <tr style=\"text-align: right;\">\n",
       "      <th></th>\n",
       "      <th>image_path</th>\n",
       "      <th>name</th>\n",
       "    </tr>\n",
       "  </thead>\n",
       "  <tbody>\n",
       "    <tr>\n",
       "      <th>0</th>\n",
       "      <td>C:\\Users\\PC.DESKTOP-QK1F62J\\Pictures\\Camera Ro...</td>\n",
       "      <td>Tristan</td>\n",
       "    </tr>\n",
       "    <tr>\n",
       "      <th>1</th>\n",
       "      <td>C:\\Users\\PC.DESKTOP-QK1F62J\\Pictures\\Camera Ro...</td>\n",
       "      <td>Andrew</td>\n",
       "    </tr>\n",
       "    <tr>\n",
       "      <th>2</th>\n",
       "      <td>C:\\Users\\PC.DESKTOP-QK1F62J\\Pictures\\Camera Ro...</td>\n",
       "      <td>nimo</td>\n",
       "    </tr>\n",
       "    <tr>\n",
       "      <th>3</th>\n",
       "      <td>C:\\Users\\PC.DESKTOP-QK1F62J\\Pictures\\Camera Ro...</td>\n",
       "      <td>nimo</td>\n",
       "    </tr>\n",
       "    <tr>\n",
       "      <th>4</th>\n",
       "      <td>C:\\Users\\PC.DESKTOP-QK1F62J\\Pictures\\Camera Ro...</td>\n",
       "      <td>Tristan</td>\n",
       "    </tr>\n",
       "  </tbody>\n",
       "</table>\n",
       "</div>"
      ],
      "text/plain": [
       "                                          image_path     name\n",
       "0  C:\\Users\\PC.DESKTOP-QK1F62J\\Pictures\\Camera Ro...  Tristan\n",
       "1  C:\\Users\\PC.DESKTOP-QK1F62J\\Pictures\\Camera Ro...   Andrew\n",
       "2  C:\\Users\\PC.DESKTOP-QK1F62J\\Pictures\\Camera Ro...     nimo\n",
       "3  C:\\Users\\PC.DESKTOP-QK1F62J\\Pictures\\Camera Ro...     nimo\n",
       "4  C:\\Users\\PC.DESKTOP-QK1F62J\\Pictures\\Camera Ro...  Tristan"
      ]
     },
     "execution_count": 94,
     "metadata": {},
     "output_type": "execute_result"
    }
   ],
   "source": [
    "df.head()"
   ]
  },
  {
   "cell_type": "code",
   "execution_count": 83,
   "id": "aee8f8f0-61d7-4a9e-a9ca-d40db504b7f6",
   "metadata": {},
   "outputs": [],
   "source": [
    "df = df.sample(frac = 1 ).reset_index(drop = True)"
   ]
  },
  {
   "cell_type": "code",
   "execution_count": 84,
   "id": "01e8653e-e7d0-4d7f-9c09-115617eb526b",
   "metadata": {},
   "outputs": [
    {
     "data": {
      "image/png": "[encoded data removed]",
      "text/plain": [
       "<Figure size 640x480 with 1 Axes>"
      ]
     },
     "metadata": {},
     "output_type": "display_data"
    }
   ],
   "source": [
    "name_counts = df[\"name\"].value_counts()\n",
    "name_counts.plot(kind=\"bar\")\n",
    "plt.xlabel(\"name\")\n",
    "plt.ylabel(\"count\")\n",
    "plt.show()"
   ]
  },
  {
   "cell_type": "code",
   "execution_count": 85,
   "id": "03ea6bde-619f-4246-905a-450ddcecb5a0",
   "metadata": {
    "scrolled": true
   },
   "outputs": [],
   "source": [
    "images = []\n",
    "labels = []\n",
    "\n",
    "for i,img in df.iterrows():\n",
    "    image = cv2.imread(img[\"image_path\"])\n",
    "    image = cv2.resize(image, (244,244))\n",
    "    image_rgb = cv2.cvtColor(image, cv2.COLOR_BGR2RGB)\n",
    "    image_normalized = image_rgb / 255.0\n",
    "\n",
    "    images.append(image_normalized)\n",
    "    labels.append(img[\"name\"])\n",
    "    \n",
    "    # plt.imshow(image_normalized)\n",
    "    # plt.title(img[\"name\"])\n",
    "    # plt.show()"
   ]
  },
  {
   "cell_type": "code",
   "execution_count": 86,
   "id": "44f7fa2f-468a-40a5-96c2-a2bb15688831",
   "metadata": {},
   "outputs": [
    {
     "name": "stdout",
     "output_type": "stream",
     "text": [
      "[[[[0.45882353 0.3254902  0.04313725]\n",
      "   [0.37647059 0.25882353 0.1372549 ]\n",
      "   [0.32941176 0.19607843 0.10196078]\n",
      "   ...\n",
      "   [0.01960784 0.1372549  0.0745098 ]\n",
      "   [0.09803922 0.1372549  0.06666667]\n",
      "   [0.08627451 0.15294118 0.02745098]]\n",
      "\n",
      "  [[0.48627451 0.32156863 0.12941176]\n",
      "   [0.4745098  0.3372549  0.22352941]\n",
      "   [0.35294118 0.21176471 0.1254902 ]\n",
      "   ...\n",
      "   [0.03137255 0.13333333 0.09019608]\n",
      "   [0.09411765 0.14117647 0.07058824]\n",
      "   [0.07843137 0.14901961 0.09019608]]\n",
      "\n",
      "  [[0.46666667 0.27843137 0.19607843]\n",
      "   [0.48235294 0.32941176 0.23137255]\n",
      "   [0.41568627 0.27058824 0.18431373]\n",
      "   ...\n",
      "   [0.05882353 0.14117647 0.10588235]\n",
      "   [0.09019608 0.14117647 0.0745098 ]\n",
      "   [0.07843137 0.15294118 0.16862745]]\n",
      "\n",
      "  ...\n",
      "\n",
      "  [[0.19215686 0.06666667 0.10980392]\n",
      "   [0.21176471 0.07058824 0.10980392]\n",
      "   [0.20784314 0.06666667 0.10588235]\n",
      "   ...\n",
      "   [0.20784314 0.10980392 0.09411765]\n",
      "   [0.21960784 0.10980392 0.10588235]\n",
      "   [0.17254902 0.09803922 0.04313725]]\n",
      "\n",
      "  [[0.18823529 0.0627451  0.12156863]\n",
      "   [0.19607843 0.05882353 0.10588235]\n",
      "   [0.20392157 0.0627451  0.10196078]\n",
      "   ...\n",
      "   [0.19607843 0.09411765 0.09411765]\n",
      "   [0.21176471 0.10588235 0.1254902 ]\n",
      "   [0.17647059 0.10196078 0.04313725]]\n",
      "\n",
      "  [[0.17647059 0.05490196 0.1254902 ]\n",
      "   [0.18823529 0.05098039 0.10980392]\n",
      "   [0.21176471 0.06666667 0.10588235]\n",
      "   ...\n",
      "   [0.19215686 0.09019608 0.09803922]\n",
      "   [0.20784314 0.10588235 0.13333333]\n",
      "   [0.19215686 0.11764706 0.05882353]]]\n",
      "\n",
      "\n",
      " [[[0.7254902  0.70980392 0.71372549]\n",
      "   [0.72156863 0.70588235 0.70980392]\n",
      "   [0.72156863 0.70588235 0.70980392]\n",
      "   ...\n",
      "   [0.76078431 0.76078431 0.76862745]\n",
      "   [0.76078431 0.76078431 0.76078431]\n",
      "   [0.76078431 0.76078431 0.76078431]]\n",
      "\n",
      "  [[0.72941176 0.70196078 0.71372549]\n",
      "   [0.7254902  0.70196078 0.70980392]\n",
      "   [0.72156863 0.70588235 0.70980392]\n",
      "   ...\n",
      "   [0.75686275 0.75294118 0.76862745]\n",
      "   [0.76078431 0.75686275 0.76862745]\n",
      "   [0.76078431 0.76078431 0.76470588]]\n",
      "\n",
      "  [[0.7254902  0.70196078 0.70980392]\n",
      "   [0.72156863 0.70196078 0.70980392]\n",
      "   [0.72156863 0.70588235 0.70980392]\n",
      "   ...\n",
      "   [0.75686275 0.75294118 0.77254902]\n",
      "   [0.75686275 0.75294118 0.76862745]\n",
      "   [0.75686275 0.75294118 0.77254902]]\n",
      "\n",
      "  ...\n",
      "\n",
      "  [[0.12156863 0.12156863 0.12156863]\n",
      "   [0.12156863 0.12156863 0.12156863]\n",
      "   [0.12156863 0.12156863 0.12156863]\n",
      "   ...\n",
      "   [0.12156863 0.12156863 0.12156863]\n",
      "   [0.12156863 0.12156863 0.12156863]\n",
      "   [0.12156863 0.12156863 0.12156863]]\n",
      "\n",
      "  [[0.12156863 0.12156863 0.12156863]\n",
      "   [0.12156863 0.12156863 0.12156863]\n",
      "   [0.12156863 0.12156863 0.12156863]\n",
      "   ...\n",
      "   [0.12156863 0.12156863 0.12156863]\n",
      "   [0.12156863 0.12156863 0.12156863]\n",
      "   [0.12156863 0.12156863 0.12156863]]\n",
      "\n",
      "  [[0.12156863 0.12156863 0.12156863]\n",
      "   [0.12156863 0.12156863 0.12156863]\n",
      "   [0.12156863 0.12156863 0.12156863]\n",
      "   ...\n",
      "   [0.12156863 0.12156863 0.12156863]\n",
      "   [0.12156863 0.12156863 0.12156863]\n",
      "   [0.12156863 0.12156863 0.12156863]]]\n",
      "\n",
      "\n",
      " [[[0.56862745 0.45882353 0.27058824]\n",
      "   [0.59215686 0.45882353 0.1372549 ]\n",
      "   [0.60784314 0.47058824 0.06666667]\n",
      "   ...\n",
      "   [0.43921569 0.33333333 0.17254902]\n",
      "   [0.40392157 0.32156863 0.27843137]\n",
      "   [0.42352941 0.3372549  0.20784314]]\n",
      "\n",
      "  [[0.57254902 0.45490196 0.24313725]\n",
      "   [0.57254902 0.43529412 0.15294118]\n",
      "   [0.58823529 0.45490196 0.1372549 ]\n",
      "   ...\n",
      "   [0.44313725 0.32941176 0.15294118]\n",
      "   [0.40784314 0.32156863 0.25882353]\n",
      "   [0.42352941 0.32941176 0.22745098]]\n",
      "\n",
      "  [[0.56862745 0.44705882 0.22352941]\n",
      "   [0.57647059 0.43529412 0.2       ]\n",
      "   [0.58039216 0.45490196 0.23921569]\n",
      "   ...\n",
      "   [0.43529412 0.32156863 0.17647059]\n",
      "   [0.41176471 0.32156863 0.23529412]\n",
      "   [0.42352941 0.32156863 0.21960784]]\n",
      "\n",
      "  ...\n",
      "\n",
      "  [[0.36470588 0.22745098 0.01960784]\n",
      "   [0.38823529 0.21568627 0.02745098]\n",
      "   [0.40392157 0.26666667 0.11764706]\n",
      "   ...\n",
      "   [0.43137255 0.37647059 0.2745098 ]\n",
      "   [0.49803922 0.38431373 0.31764706]\n",
      "   [0.51372549 0.39215686 0.28235294]]\n",
      "\n",
      "  [[0.3254902  0.21176471 0.08627451]\n",
      "   [0.39607843 0.23137255 0.07058824]\n",
      "   [0.39215686 0.25490196 0.10980392]\n",
      "   ...\n",
      "   [0.41176471 0.37647059 0.29019608]\n",
      "   [0.48627451 0.37647059 0.32156863]\n",
      "   [0.51372549 0.38431373 0.25490196]]\n",
      "\n",
      "  [[0.3254902  0.23921569 0.14509804]\n",
      "   [0.38039216 0.23921569 0.08235294]\n",
      "   [0.38431373 0.25098039 0.09411765]\n",
      "   ...\n",
      "   [0.41960784 0.36862745 0.30196078]\n",
      "   [0.4745098  0.33333333 0.29803922]\n",
      "   [0.50588235 0.36470588 0.22745098]]]\n",
      "\n",
      "\n",
      " ...\n",
      "\n",
      "\n",
      " [[[0.21568627 0.23137255 0.26666667]\n",
      "   [0.29803922 0.24705882 0.25882353]\n",
      "   [0.37647059 0.24313725 0.36862745]\n",
      "   ...\n",
      "   [0.2        0.15294118 0.18431373]\n",
      "   [0.22352941 0.17254902 0.31372549]\n",
      "   [0.21568627 0.23529412 0.30196078]]\n",
      "\n",
      "  [[0.24705882 0.25490196 0.24313725]\n",
      "   [0.28627451 0.21960784 0.21568627]\n",
      "   [0.39215686 0.23137255 0.34117647]\n",
      "   ...\n",
      "   [0.20784314 0.16862745 0.19607843]\n",
      "   [0.20784314 0.2        0.29803922]\n",
      "   [0.20392157 0.22745098 0.2745098 ]]\n",
      "\n",
      "  [[0.31764706 0.25882353 0.25882353]\n",
      "   [0.30980392 0.19607843 0.15686275]\n",
      "   [0.39607843 0.20392157 0.2       ]\n",
      "   ...\n",
      "   [0.20392157 0.18039216 0.20784314]\n",
      "   [0.17647059 0.21176471 0.25882353]\n",
      "   [0.18039216 0.2        0.22745098]]\n",
      "\n",
      "  ...\n",
      "\n",
      "  [[0.24705882 0.08627451 0.1372549 ]\n",
      "   [0.2627451  0.1254902  0.11372549]\n",
      "   [0.28235294 0.11764706 0.12156863]\n",
      "   ...\n",
      "   [0.25882353 0.18039216 0.14901961]\n",
      "   [0.25882353 0.16470588 0.14509804]\n",
      "   [0.23137255 0.15294118 0.14901961]]\n",
      "\n",
      "  [[0.27058824 0.09411765 0.10196078]\n",
      "   [0.2627451  0.11372549 0.10588235]\n",
      "   [0.2745098  0.11372549 0.09411765]\n",
      "   ...\n",
      "   [0.25098039 0.17647059 0.1372549 ]\n",
      "   [0.25882353 0.16470588 0.16078431]\n",
      "   [0.25882353 0.14509804 0.16470588]]\n",
      "\n",
      "  [[0.30196078 0.09411765 0.05490196]\n",
      "   [0.25098039 0.07843137 0.0745098 ]\n",
      "   [0.25490196 0.10196078 0.06666667]\n",
      "   ...\n",
      "   [0.24705882 0.16862745 0.12941176]\n",
      "   [0.23137255 0.14901961 0.14901961]\n",
      "   [0.26666667 0.1372549  0.18039216]]]\n",
      "\n",
      "\n",
      " [[[0.88235294 0.98431373 0.97254902]\n",
      "   [0.9254902  0.98431373 0.99607843]\n",
      "   [0.90980392 0.98039216 0.99215686]\n",
      "   ...\n",
      "   [0.6        0.59607843 0.54509804]\n",
      "   [0.6        0.59607843 0.63921569]\n",
      "   [0.62352941 0.57254902 0.60784314]]\n",
      "\n",
      "  [[0.86666667 0.98823529 0.96862745]\n",
      "   [0.89803922 0.98823529 1.        ]\n",
      "   [0.89019608 0.98823529 0.99607843]\n",
      "   ...\n",
      "   [0.61960784 0.59607843 0.55686275]\n",
      "   [0.6        0.59607843 0.6       ]\n",
      "   [0.61960784 0.57647059 0.59215686]]\n",
      "\n",
      "  [[0.88627451 0.99215686 0.97254902]\n",
      "   [0.89803922 0.99215686 1.        ]\n",
      "   [0.89019608 0.98823529 0.99215686]\n",
      "   ...\n",
      "   [0.61176471 0.60392157 0.55686275]\n",
      "   [0.57647059 0.61176471 0.55686275]\n",
      "   [0.59607843 0.58431373 0.56470588]]\n",
      "\n",
      "  ...\n",
      "\n",
      "  [[0.18431373 0.19215686 0.23921569]\n",
      "   [0.15686275 0.16470588 0.24705882]\n",
      "   [0.14117647 0.17647059 0.18431373]\n",
      "   ...\n",
      "   [0.25490196 0.16078431 0.1254902 ]\n",
      "   [0.25882353 0.15294118 0.18039216]\n",
      "   [0.18039216 0.1254902  0.19215686]]\n",
      "\n",
      "  [[0.15294118 0.2        0.28235294]\n",
      "   [0.14117647 0.16470588 0.29411765]\n",
      "   [0.14117647 0.18039216 0.19607843]\n",
      "   ...\n",
      "   [0.26666667 0.19607843 0.14509804]\n",
      "   [0.26666667 0.17647059 0.18431373]\n",
      "   [0.19215686 0.14901961 0.16470588]]\n",
      "\n",
      "  [[0.12156863 0.19215686 0.34901961]\n",
      "   [0.1372549  0.18431373 0.28627451]\n",
      "   [0.15294118 0.18039216 0.23137255]\n",
      "   ...\n",
      "   [0.27843137 0.19215686 0.14509804]\n",
      "   [0.2745098  0.17254902 0.18431373]\n",
      "   [0.21960784 0.16862745 0.13333333]]]\n",
      "\n",
      "\n",
      " [[[0.94117647 0.97647059 1.        ]\n",
      "   [0.90196078 0.95686275 0.98039216]\n",
      "   [0.90196078 0.98039216 0.99607843]\n",
      "   ...\n",
      "   [0.62352941 0.59215686 0.54509804]\n",
      "   [0.65098039 0.60392157 0.59607843]\n",
      "   [0.63921569 0.60392157 0.60784314]]\n",
      "\n",
      "  [[0.91372549 0.98823529 0.99607843]\n",
      "   [0.90588235 0.97647059 0.98823529]\n",
      "   [0.9254902  0.98823529 1.        ]\n",
      "   ...\n",
      "   [0.63137255 0.6        0.54509804]\n",
      "   [0.63137255 0.59607843 0.56470588]\n",
      "   [0.62352941 0.59215686 0.58039216]]\n",
      "\n",
      "  [[0.90588235 0.98823529 0.99215686]\n",
      "   [0.90196078 0.98039216 0.99215686]\n",
      "   [0.90980392 0.98431373 1.        ]\n",
      "   ...\n",
      "   [0.63137255 0.60392157 0.52941176]\n",
      "   [0.60392157 0.58431373 0.50980392]\n",
      "   [0.6        0.58431373 0.54509804]]\n",
      "\n",
      "  ...\n",
      "\n",
      "  [[0.18823529 0.18431373 0.10980392]\n",
      "   [0.18039216 0.18431373 0.21960784]\n",
      "   [0.17254902 0.2        0.21568627]\n",
      "   ...\n",
      "   [0.25490196 0.14117647 0.14509804]\n",
      "   [0.27058824 0.1254902  0.17647059]\n",
      "   [0.27058824 0.10980392 0.09803922]]\n",
      "\n",
      "  [[0.17647059 0.19607843 0.14509804]\n",
      "   [0.18431373 0.19607843 0.22352941]\n",
      "   [0.18039216 0.19607843 0.20784314]\n",
      "   ...\n",
      "   [0.26666667 0.16862745 0.18823529]\n",
      "   [0.29411765 0.14509804 0.20784314]\n",
      "   [0.28235294 0.14117647 0.14117647]]\n",
      "\n",
      "  [[0.15686275 0.18823529 0.2       ]\n",
      "   [0.16470588 0.18823529 0.22352941]\n",
      "   [0.18039216 0.17647059 0.21176471]\n",
      "   ...\n",
      "   [0.30196078 0.21960784 0.22352941]\n",
      "   [0.30196078 0.17254902 0.20784314]\n",
      "   [0.27843137 0.16078431 0.14117647]]]]\n"
     ]
    }
   ],
   "source": [
    "# Convert images and labels to numpy arrays for model training\n",
    "images = np.array(images)\n",
    "labels = np.array(labels)\n",
    "\n",
    "print(images)"
   ]
  },
  {
   "cell_type": "code",
   "execution_count": 87,
   "id": "ed899416-c391-4062-af5f-861bff755c06",
   "metadata": {},
   "outputs": [
    {
     "name": "stdout",
     "output_type": "stream",
     "text": [
      "[1 0 2 2 1 2 0 1 0 1 0 0 2 1 0 1 0 0 2 1 0 0 1 0 0 1 1 1 2 2 0 2 1 0 1 0 2\n",
      " 2 0 0 2 2 1 0 0 1 0 2 2 1 1 2 1 1 1 1 1 0 0 0 2 0 1 2 2 0 0 0 0 0 1 1 2 0\n",
      " 0 0 1 0 0]\n"
     ]
    }
   ],
   "source": [
    "label_encoder = LabelEncoder()\n",
    "encoded_labels = label_encoder.fit_transform(labels)\n",
    "\n",
    "print(encoded_labels)"
   ]
  },
  {
   "cell_type": "code",
   "execution_count": 88,
   "id": "1a417e66-532d-4f94-a243-bbd0d043635c",
   "metadata": {},
   "outputs": [],
   "source": [
    "x_train, x_test, y_train, y_test = train_test_split(images , encoded_labels, random_state=42, test_size=0.2)\n"
   ]
  },
  {
   "cell_type": "code",
   "execution_count": 89,
   "id": "6e52edba-25ec-4147-b260-bb1aae42dd13",
   "metadata": {},
   "outputs": [],
   "source": [
    "from tensorflow.keras.utils import to_categorical\n",
    "num_classes = len(set(labels))  # Total number of classes\n",
    "y_train = to_categorical(y_train, num_classes)\n",
    "y_test = to_categorical(y_test, num_classes)"
   ]
  },
  {
   "cell_type": "code",
   "execution_count": 90,
   "id": "4734d275-76cf-4d70-9b3b-7f9b7251d8e7",
   "metadata": {},
   "outputs": [],
   "source": [
    "import tensorflow as tf \n",
    "from tensorflow.keras import layers,  models, Sequential\n",
    "\n"
   ]
  },
  {
   "cell_type": "code",
   "execution_count": 91,
   "id": "c2563c03-2b4e-43d5-a0cf-84b2365da379",
   "metadata": {},
   "outputs": [
    {
     "name": "stderr",
     "output_type": "stream",
     "text": [
      "C:\\Users\\PC.DESKTOP-QK1F62J\\AppData\\Local\\Programs\\Python\\Python312\\Lib\\site-packages\\keras\\src\\layers\\convolutional\\base_conv.py:107: UserWarning: Do not pass an `input_shape`/`input_dim` argument to a layer. When using Sequential models, prefer using an `Input(shape)` object as the first layer in the model instead.\n",
      "  super().__init__(activity_regularizer=activity_regularizer, **kwargs)\n"
     ]
    },
    {
     "data": {
      "text/html": [
       "<pre style=\"white-space:pre;overflow-x:auto;line-height:normal;font-family:Menlo,'DejaVu Sans Mono',consolas,'Courier New',monospace\"><span style=\"font-weight: bold\">Model: \"sequential_5\"</span>\n",
       "</pre>\n"
      ],
      "text/plain": [
       "\u001b[1mModel: \"sequential_5\"\u001b[0m\n"
      ]
     },
     "metadata": {},
     "output_type": "display_data"
    },
    {
     "data": {
      "text/html": [
       "<pre style=\"white-space:pre;overflow-x:auto;line-height:normal;font-family:Menlo,'DejaVu Sans Mono',consolas,'Courier New',monospace\">┏━━━━━━━━━━━━━━━━━━━━━━━━━━━━━━━━━━━━━━┳━━━━━━━━━━━━━━━━━━━━━━━━━━━━━┳━━━━━━━━━━━━━━━━━┓\n",
       "┃<span style=\"font-weight: bold\"> Layer (type)                         </span>┃<span style=\"font-weight: bold\"> Output Shape                </span>┃<span style=\"font-weight: bold\">         Param # </span>┃\n",
       "┡━━━━━━━━━━━━━━━━━━━━━━━━━━━━━━━━━━━━━━╇━━━━━━━━━━━━━━━━━━━━━━━━━━━━━╇━━━━━━━━━━━━━━━━━┩\n",
       "│ conv2d_15 (<span style=\"color: #0087ff; text-decoration-color: #0087ff\">Conv2D</span>)                   │ (<span style=\"color: #00d7ff; text-decoration-color: #00d7ff\">None</span>, <span style=\"color: #00af00; text-decoration-color: #00af00\">242</span>, <span style=\"color: #00af00; text-decoration-color: #00af00\">242</span>, <span style=\"color: #00af00; text-decoration-color: #00af00\">32</span>)        │             <span style=\"color: #00af00; text-decoration-color: #00af00\">896</span> │\n",
       "├──────────────────────────────────────┼─────────────────────────────┼─────────────────┤\n",
       "│ max_pooling2d_10 (<span style=\"color: #0087ff; text-decoration-color: #0087ff\">MaxPooling2D</span>)      │ (<span style=\"color: #00d7ff; text-decoration-color: #00d7ff\">None</span>, <span style=\"color: #00af00; text-decoration-color: #00af00\">121</span>, <span style=\"color: #00af00; text-decoration-color: #00af00\">121</span>, <span style=\"color: #00af00; text-decoration-color: #00af00\">32</span>)        │               <span style=\"color: #00af00; text-decoration-color: #00af00\">0</span> │\n",
       "├──────────────────────────────────────┼─────────────────────────────┼─────────────────┤\n",
       "│ conv2d_16 (<span style=\"color: #0087ff; text-decoration-color: #0087ff\">Conv2D</span>)                   │ (<span style=\"color: #00d7ff; text-decoration-color: #00d7ff\">None</span>, <span style=\"color: #00af00; text-decoration-color: #00af00\">119</span>, <span style=\"color: #00af00; text-decoration-color: #00af00\">119</span>, <span style=\"color: #00af00; text-decoration-color: #00af00\">64</span>)        │          <span style=\"color: #00af00; text-decoration-color: #00af00\">18,496</span> │\n",
       "├──────────────────────────────────────┼─────────────────────────────┼─────────────────┤\n",
       "│ max_pooling2d_11 (<span style=\"color: #0087ff; text-decoration-color: #0087ff\">MaxPooling2D</span>)      │ (<span style=\"color: #00d7ff; text-decoration-color: #00d7ff\">None</span>, <span style=\"color: #00af00; text-decoration-color: #00af00\">59</span>, <span style=\"color: #00af00; text-decoration-color: #00af00\">59</span>, <span style=\"color: #00af00; text-decoration-color: #00af00\">64</span>)          │               <span style=\"color: #00af00; text-decoration-color: #00af00\">0</span> │\n",
       "├──────────────────────────────────────┼─────────────────────────────┼─────────────────┤\n",
       "│ conv2d_17 (<span style=\"color: #0087ff; text-decoration-color: #0087ff\">Conv2D</span>)                   │ (<span style=\"color: #00d7ff; text-decoration-color: #00d7ff\">None</span>, <span style=\"color: #00af00; text-decoration-color: #00af00\">57</span>, <span style=\"color: #00af00; text-decoration-color: #00af00\">57</span>, <span style=\"color: #00af00; text-decoration-color: #00af00\">128</span>)         │          <span style=\"color: #00af00; text-decoration-color: #00af00\">73,856</span> │\n",
       "├──────────────────────────────────────┼─────────────────────────────┼─────────────────┤\n",
       "│ flatten_5 (<span style=\"color: #0087ff; text-decoration-color: #0087ff\">Flatten</span>)                  │ (<span style=\"color: #00d7ff; text-decoration-color: #00d7ff\">None</span>, <span style=\"color: #00af00; text-decoration-color: #00af00\">415872</span>)              │               <span style=\"color: #00af00; text-decoration-color: #00af00\">0</span> │\n",
       "├──────────────────────────────────────┼─────────────────────────────┼─────────────────┤\n",
       "│ dense_10 (<span style=\"color: #0087ff; text-decoration-color: #0087ff\">Dense</span>)                     │ (<span style=\"color: #00d7ff; text-decoration-color: #00d7ff\">None</span>, <span style=\"color: #00af00; text-decoration-color: #00af00\">128</span>)                 │      <span style=\"color: #00af00; text-decoration-color: #00af00\">53,231,744</span> │\n",
       "├──────────────────────────────────────┼─────────────────────────────┼─────────────────┤\n",
       "│ dense_11 (<span style=\"color: #0087ff; text-decoration-color: #0087ff\">Dense</span>)                     │ (<span style=\"color: #00d7ff; text-decoration-color: #00d7ff\">None</span>, <span style=\"color: #00af00; text-decoration-color: #00af00\">3</span>)                   │             <span style=\"color: #00af00; text-decoration-color: #00af00\">387</span> │\n",
       "└──────────────────────────────────────┴─────────────────────────────┴─────────────────┘\n",
       "</pre>\n"
      ],
      "text/plain": [
       "┏━━━━━━━━━━━━━━━━━━━━━━━━━━━━━━━━━━━━━━┳━━━━━━━━━━━━━━━━━━━━━━━━━━━━━┳━━━━━━━━━━━━━━━━━┓\n",
       "┃\u001b[1m \u001b[0m\u001b[1mLayer (type)                        \u001b[0m\u001b[1m \u001b[0m┃\u001b[1m \u001b[0m\u001b[1mOutput Shape               \u001b[0m\u001b[1m \u001b[0m┃\u001b[1m \u001b[0m\u001b[1m        Param #\u001b[0m\u001b[1m \u001b[0m┃\n",
       "┡━━━━━━━━━━━━━━━━━━━━━━━━━━━━━━━━━━━━━━╇━━━━━━━━━━━━━━━━━━━━━━━━━━━━━╇━━━━━━━━━━━━━━━━━┩\n",
       "│ conv2d_15 (\u001b[38;5;33mConv2D\u001b[0m)                   │ (\u001b[38;5;45mNone\u001b[0m, \u001b[38;5;34m242\u001b[0m, \u001b[38;5;34m242\u001b[0m, \u001b[38;5;34m32\u001b[0m)        │             \u001b[38;5;34m896\u001b[0m │\n",
       "├──────────────────────────────────────┼─────────────────────────────┼─────────────────┤\n",
       "│ max_pooling2d_10 (\u001b[38;5;33mMaxPooling2D\u001b[0m)      │ (\u001b[38;5;45mNone\u001b[0m, \u001b[38;5;34m121\u001b[0m, \u001b[38;5;34m121\u001b[0m, \u001b[38;5;34m32\u001b[0m)        │               \u001b[38;5;34m0\u001b[0m │\n",
       "├──────────────────────────────────────┼─────────────────────────────┼─────────────────┤\n",
       "│ conv2d_16 (\u001b[38;5;33mConv2D\u001b[0m)                   │ (\u001b[38;5;45mNone\u001b[0m, \u001b[38;5;34m119\u001b[0m, \u001b[38;5;34m119\u001b[0m, \u001b[38;5;34m64\u001b[0m)        │          \u001b[38;5;34m18,496\u001b[0m │\n",
       "├──────────────────────────────────────┼─────────────────────────────┼─────────────────┤\n",
       "│ max_pooling2d_11 (\u001b[38;5;33mMaxPooling2D\u001b[0m)      │ (\u001b[38;5;45mNone\u001b[0m, \u001b[38;5;34m59\u001b[0m, \u001b[38;5;34m59\u001b[0m, \u001b[38;5;34m64\u001b[0m)          │               \u001b[38;5;34m0\u001b[0m │\n",
       "├──────────────────────────────────────┼─────────────────────────────┼─────────────────┤\n",
       "│ conv2d_17 (\u001b[38;5;33mConv2D\u001b[0m)                   │ (\u001b[38;5;45mNone\u001b[0m, \u001b[38;5;34m57\u001b[0m, \u001b[38;5;34m57\u001b[0m, \u001b[38;5;34m128\u001b[0m)         │          \u001b[38;5;34m73,856\u001b[0m │\n",
       "├──────────────────────────────────────┼─────────────────────────────┼─────────────────┤\n",
       "│ flatten_5 (\u001b[38;5;33mFlatten\u001b[0m)                  │ (\u001b[38;5;45mNone\u001b[0m, \u001b[38;5;34m415872\u001b[0m)              │               \u001b[38;5;34m0\u001b[0m │\n",
       "├──────────────────────────────────────┼─────────────────────────────┼─────────────────┤\n",
       "│ dense_10 (\u001b[38;5;33mDense\u001b[0m)                     │ (\u001b[38;5;45mNone\u001b[0m, \u001b[38;5;34m128\u001b[0m)                 │      \u001b[38;5;34m53,231,744\u001b[0m │\n",
       "├──────────────────────────────────────┼─────────────────────────────┼─────────────────┤\n",
       "│ dense_11 (\u001b[38;5;33mDense\u001b[0m)                     │ (\u001b[38;5;45mNone\u001b[0m, \u001b[38;5;34m3\u001b[0m)                   │             \u001b[38;5;34m387\u001b[0m │\n",
       "└──────────────────────────────────────┴─────────────────────────────┴─────────────────┘\n"
      ]
     },
     "metadata": {},
     "output_type": "display_data"
    },
    {
     "data": {
      "text/html": [
       "<pre style=\"white-space:pre;overflow-x:auto;line-height:normal;font-family:Menlo,'DejaVu Sans Mono',consolas,'Courier New',monospace\"><span style=\"font-weight: bold\"> Total params: </span><span style=\"color: #00af00; text-decoration-color: #00af00\">53,325,379</span> (203.42 MB)\n",
       "</pre>\n"
      ],
      "text/plain": [
       "\u001b[1m Total params: \u001b[0m\u001b[38;5;34m53,325,379\u001b[0m (203.42 MB)\n"
      ]
     },
     "metadata": {},
     "output_type": "display_data"
    },
    {
     "data": {
      "text/html": [
       "<pre style=\"white-space:pre;overflow-x:auto;line-height:normal;font-family:Menlo,'DejaVu Sans Mono',consolas,'Courier New',monospace\"><span style=\"font-weight: bold\"> Trainable params: </span><span style=\"color: #00af00; text-decoration-color: #00af00\">53,325,379</span> (203.42 MB)\n",
       "</pre>\n"
      ],
      "text/plain": [
       "\u001b[1m Trainable params: \u001b[0m\u001b[38;5;34m53,325,379\u001b[0m (203.42 MB)\n"
      ]
     },
     "metadata": {},
     "output_type": "display_data"
    },
    {
     "data": {
      "text/html": [
       "<pre style=\"white-space:pre;overflow-x:auto;line-height:normal;font-family:Menlo,'DejaVu Sans Mono',consolas,'Courier New',monospace\"><span style=\"font-weight: bold\"> Non-trainable params: </span><span style=\"color: #00af00; text-decoration-color: #00af00\">0</span> (0.00 B)\n",
       "</pre>\n"
      ],
      "text/plain": [
       "\u001b[1m Non-trainable params: \u001b[0m\u001b[38;5;34m0\u001b[0m (0.00 B)\n"
      ]
     },
     "metadata": {},
     "output_type": "display_data"
    }
   ],
   "source": [
    "model = Sequential([\n",
    "    layers.Conv2D(32, (3,3), input_shape=(244,244,3)),\n",
    "    layers.MaxPooling2D((2,2)),\n",
    "    layers.Conv2D(64, (3,3)),\n",
    "    layers.MaxPooling2D((2,2)),\n",
    "    layers.Conv2D(128, (3,3)),\n",
    "    layers.Flatten(),\n",
    "    layers.Dense(128, activation=\"relu\"),\n",
    "    layers.Dense(len(set(labels)), activation=\"softmax\")\n",
    "    \n",
    "])\n",
    "\n",
    "model.compile( optimizer=\"adam\", loss=\"categorical_crossentropy\", metrics=[\"accuracy\"])\n",
    "\n",
    "model.summary()"
   ]
  },
  {
   "cell_type": "code",
   "execution_count": 92,
   "id": "16f1b62e-e8a5-48e4-9859-04e8a23a3498",
   "metadata": {},
   "outputs": [
    {
     "name": "stdout",
     "output_type": "stream",
     "text": [
      "Epoch 1/10\n",
      "\u001b[1m2/2\u001b[0m \u001b[32m━━━━━━━━━━━━━━━━━━━━\u001b[0m\u001b[37m\u001b[0m \u001b[1m51s\u001b[0m 11s/step - accuracy: 0.5782 - loss: 35.9493 - val_accuracy: 0.9375 - val_loss: 0.6704\n",
      "Epoch 2/10\n",
      "\u001b[1m2/2\u001b[0m \u001b[32m━━━━━━━━━━━━━━━━━━━━\u001b[0m\u001b[37m\u001b[0m \u001b[1m13s\u001b[0m 8s/step - accuracy: 0.7153 - loss: 2.2634 - val_accuracy: 0.3750 - val_loss: 4.9108\n",
      "Epoch 3/10\n",
      "\u001b[1m2/2\u001b[0m \u001b[32m━━━━━━━━━━━━━━━━━━━━\u001b[0m\u001b[37m\u001b[0m \u001b[1m13s\u001b[0m 7s/step - accuracy: 0.3581 - loss: 4.6032 - val_accuracy: 1.0000 - val_loss: 0.0064\n",
      "Epoch 4/10\n",
      "\u001b[1m2/2\u001b[0m \u001b[32m━━━━━━━━━━━━━━━━━━━━\u001b[0m\u001b[37m\u001b[0m \u001b[1m9s\u001b[0m 4s/step - accuracy: 0.9577 - loss: 0.2063 - val_accuracy: 0.9375 - val_loss: 0.0946\n",
      "Epoch 5/10\n",
      "\u001b[1m2/2\u001b[0m \u001b[32m━━━━━━━━━━━━━━━━━━━━\u001b[0m\u001b[37m\u001b[0m \u001b[1m10s\u001b[0m 5s/step - accuracy: 0.8740 - loss: 0.7564 - val_accuracy: 1.0000 - val_loss: 4.2762e-04\n",
      "Epoch 6/10\n",
      "\u001b[1m2/2\u001b[0m \u001b[32m━━━━━━━━━━━━━━━━━━━━\u001b[0m\u001b[37m\u001b[0m \u001b[1m10s\u001b[0m 5s/step - accuracy: 0.9894 - loss: 0.0329 - val_accuracy: 0.9375 - val_loss: 0.2524\n",
      "Epoch 7/10\n",
      "\u001b[1m2/2\u001b[0m \u001b[32m━━━━━━━━━━━━━━━━━━━━\u001b[0m\u001b[37m\u001b[0m \u001b[1m7s\u001b[0m 4s/step - accuracy: 1.0000 - loss: 5.1001e-04 - val_accuracy: 1.0000 - val_loss: 0.0079\n",
      "Epoch 8/10\n",
      "\u001b[1m2/2\u001b[0m \u001b[32m━━━━━━━━━━━━━━━━━━━━\u001b[0m\u001b[37m\u001b[0m \u001b[1m6s\u001b[0m 3s/step - accuracy: 1.0000 - loss: 1.3412e-05 - val_accuracy: 1.0000 - val_loss: 1.3722e-05\n",
      "Epoch 9/10\n",
      "\u001b[1m2/2\u001b[0m \u001b[32m━━━━━━━━━━━━━━━━━━━━\u001b[0m\u001b[37m\u001b[0m \u001b[1m10s\u001b[0m 3s/step - accuracy: 1.0000 - loss: 0.0000e+00 - val_accuracy: 1.0000 - val_loss: 3.7253e-08\n",
      "Epoch 10/10\n",
      "\u001b[1m2/2\u001b[0m \u001b[32m━━━━━━━━━━━━━━━━━━━━\u001b[0m\u001b[37m\u001b[0m \u001b[1m11s\u001b[0m 3s/step - accuracy: 1.0000 - loss: 0.0000e+00 - val_accuracy: 1.0000 - val_loss: 0.0000e+00\n"
     ]
    },
    {
     "data": {
      "text/plain": [
       "<keras.src.callbacks.history.History at 0x212dd4eb0b0>"
      ]
     },
     "execution_count": 92,
     "metadata": {},
     "output_type": "execute_result"
    }
   ],
   "source": [
    "model.fit(x_train, y_train, epochs=10 ,validation_data=(x_test, y_test) , verbose=True)"
   ]
  },
  {
   "cell_type": "code",
   "execution_count": 93,
   "id": "ee686778-c480-4d0d-a71b-43da03d3d831",
   "metadata": {},
   "outputs": [
    {
     "name": "stdout",
     "output_type": "stream",
     "text": [
      "\u001b[1m1/1\u001b[0m \u001b[32m━━━━━━━━━━━━━━━━━━━━\u001b[0m\u001b[37m\u001b[0m \u001b[1m0s\u001b[0m 353ms/step - accuracy: 1.0000 - loss: 0.0000e+00\n",
      "Test Accuracy: 1.00\n"
     ]
    }
   ],
   "source": [
    "loss, accuracy = model.evaluate(x_test, y_test)\n",
    "print(f\"Test Accuracy: {accuracy:.2f}\")\n"
   ]
  },
  {
   "cell_type": "code",
   "execution_count": 79,
   "id": "2fdaa2c2-d2d6-4a83-a60a-a382297f0346",
   "metadata": {},
   "outputs": [],
   "source": [
    "# import numpy as np\n",
    "# import matplotlib.pyplot as plt\n",
    "\n",
    "# predictions = model.predict(x_test)\n",
    "# predicted_labels = np.argmax(predictions, axis=1)\n",
    "\n",
    "# true_labels = np.argmax(y_test, axis=1)\n",
    "\n",
    "\n",
    "# N = 10  # Number of test samples to visualize\n",
    "# for i in range(N):\n",
    "#     plt.imshow(x_test[i])  # Display the test image\n",
    "#     plt.axis('off')\n",
    "#     plt.title(f\"True: {true_labels[i]}, Predicted: {predicted_labels[i]}\")\n",
    "#     plt.show()\n"
   ]
  },
  {
   "cell_type": "code",
   "execution_count": null,
   "id": "5e0fb294-0aa2-4bf3-b811-bdad83b2ab10",
   "metadata": {},
   "outputs": [],
   "source": []
  }
 ],
 "metadata": {
  "kernelspec": {
   "display_name": "Python 3 (ipykernel)",
   "language": "python",
   "name": "python3"
  },
  "language_info": {
   "codemirror_mode": {
    "name": "ipython",
    "version": 3
   },
   "file_extension": ".py",
   "mimetype": "text/x-python",
   "name": "python",
   "nbconvert_exporter": "python",
   "pygments_lexer": "ipython3",
   "version": "3.12.0"
  }
 },
 "nbformat": 4,
 "nbformat_minor": 5
}
